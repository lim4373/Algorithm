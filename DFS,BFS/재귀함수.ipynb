{
 "cells": [
  {
   "cell_type": "markdown",
   "metadata": {},
   "source": [
    "### 재귀함수(Recursive Function)\n",
    "- 자기 자신을 다시 호출하는 함수"
   ]
  },
  {
   "cell_type": "code",
   "execution_count": 2,
   "metadata": {},
   "outputs": [
    {
     "name": "stdout",
     "output_type": "stream",
     "text": [
      "1 번째 재귀 함수에서 2 번째 재귀 함수를 호출합니다\n",
      "2 번째 재귀 함수에서 3 번째 재귀 함수를 호출합니다\n",
      "3 번째 재귀 함수에서 4 번째 재귀 함수를 호출합니다\n",
      "4 번째 재귀 함수에서 5 번째 재귀 함수를 호출합니다\n",
      "5 번째 재귀 함수에서 6 번째 재귀 함수를 호출합니다\n",
      "6 번째 재귀 함수에서 7 번째 재귀 함수를 호출합니다\n",
      "7 번째 재귀 함수에서 8 번째 재귀 함수를 호출합니다\n",
      "8 번째 재귀 함수에서 9 번째 재귀 함수를 호출합니다\n",
      "9 번째 재귀 함수에서 10 번째 재귀 함수를 호출합니다\n",
      "9 번째 재귀 함수를 종료합니다\n",
      "8 번째 재귀 함수를 종료합니다\n",
      "7 번째 재귀 함수를 종료합니다\n",
      "6 번째 재귀 함수를 종료합니다\n",
      "5 번째 재귀 함수를 종료합니다\n",
      "4 번째 재귀 함수를 종료합니다\n",
      "3 번째 재귀 함수를 종료합니다\n",
      "2 번째 재귀 함수를 종료합니다\n",
      "1 번째 재귀 함수를 종료합니다\n"
     ]
    }
   ],
   "source": [
    "def recursive_function(i):\n",
    "    if i == 10:\n",
    "        return\n",
    "    print(i,\"번째 재귀 함수에서\", i+1, \"번째 재귀 함수를 호출합니다\")\n",
    "    recursive_function(i+1)\n",
    "    print(i,\"번째 재귀 함수를 종료합니다\")\n",
    "recursive_function(1)"
   ]
  },
  {
   "cell_type": "markdown",
   "metadata": {},
   "source": [
    "- 팩토리얼"
   ]
  },
  {
   "cell_type": "code",
   "execution_count": 3,
   "metadata": {},
   "outputs": [
    {
     "data": {
      "text/plain": [
       "120"
      ]
     },
     "execution_count": 3,
     "metadata": {},
     "output_type": "execute_result"
    }
   ],
   "source": [
    "# 반복적으로 구현한 n!\n",
    "def factorial_iterateive(n):\n",
    "    result = 1\n",
    "    for i in range(1,n+1):\n",
    "        result *=i\n",
    "    return result\n",
    "factorial_iterateive(5)\n"
   ]
  },
  {
   "cell_type": "code",
   "execution_count": 4,
   "metadata": {},
   "outputs": [
    {
     "data": {
      "text/plain": [
       "120"
      ]
     },
     "execution_count": 4,
     "metadata": {},
     "output_type": "execute_result"
    }
   ],
   "source": [
    "# 재귀적으로 구현한 n!\n",
    "def factorial_recursive(n):\n",
    "    if n <=1:\n",
    "        return 1\n",
    "    return n * factorial_recursive(n-1)\n",
    "factorial_recursive(5)"
   ]
  },
  {
   "cell_type": "code",
   "execution_count": null,
   "metadata": {},
   "outputs": [],
   "source": []
  }
 ],
 "metadata": {
  "kernelspec": {
   "display_name": "Python 3",
   "language": "python",
   "name": "python3"
  },
  "language_info": {
   "codemirror_mode": {
    "name": "ipython",
    "version": 3
   },
   "file_extension": ".py",
   "mimetype": "text/x-python",
   "name": "python",
   "nbconvert_exporter": "python",
   "pygments_lexer": "ipython3",
   "version": "3.12.0"
  }
 },
 "nbformat": 4,
 "nbformat_minor": 2
}
